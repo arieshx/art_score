{
 "cells": [
  {
   "cell_type": "markdown",
   "metadata": {},
   "source": [
    "# 问题描述\n",
    "场景：初中高中阶段美术特长生的美术作品自动打分，可以极大的帮助老师减轻工作负担\n",
    "![image.png](https://github.com/hx123123/art_score/blob/master/images/1.png?raw=true)"
   ]
  },
  {
   "cell_type": "markdown",
   "metadata": {},
   "source": [
    "![image.png](attachment:image.png)"
   ]
  },
  {
   "cell_type": "markdown",
   "metadata": {},
   "source": [
    "目标\n",
    "- 尽可能的对新来的美术作品利用机器自动的给出合理的分数，以人类审美为依据。"
   ]
  },
  {
   "cell_type": "markdown",
   "metadata": {},
   "source": [
    "# 实验数据"
   ]
  },
  {
   "cell_type": "markdown",
   "metadata": {},
   "source": [
    "## 速写数据集分布\n",
    "![image.png](attachment:image.png)"
   ]
  },
  {
   "cell_type": "markdown",
   "metadata": {},
   "source": [
    "## 数据增强，数据均衡\n",
    "通过随机裁剪和随机水平翻转\n",
    "![image.png](attachment:image.png)"
   ]
  },
  {
   "cell_type": "markdown",
   "metadata": {},
   "source": [
    "## 数据统计"
   ]
  },
  {
   "cell_type": "markdown",
   "metadata": {},
   "source": [
    "- 素写+油画 共计6w张\n",
    "- 数据增强至87648张，（数据增强方式和数量有待研究）\n"
   ]
  },
  {
   "cell_type": "markdown",
   "metadata": {},
   "source": [
    "# 获取训练图片"
   ]
  },
  {
   "cell_type": "markdown",
   "metadata": {},
   "source": [
    "路线\n",
    "- 用神经网络检测出图片的绘画主体部分，并抠出来\n",
    "- 用文本检测ctpn网络检测出图片上的分数\n",
    "- 用ocr算法识别出数字，得到训练数据的label\n",
    "- 划分训练集和验证集，训练模型"
   ]
  },
  {
   "cell_type": "markdown",
   "metadata": {},
   "source": [
    "## fine-tune ctpn"
   ]
  },
  {
   "cell_type": "markdown",
   "metadata": {},
   "source": [
    "步骤\n",
    "- 人工标注了350张左右的数据\n",
    "- 在之前训练快递单检测的结果基础上继续训练30个epoch"
   ]
  },
  {
   "cell_type": "markdown",
   "metadata": {},
   "source": [
    "效果展示"
   ]
  },
  {
   "cell_type": "markdown",
   "metadata": {},
   "source": [
    "检测结果1\n",
    "![image.png](attachment:image.png)"
   ]
  },
  {
   "cell_type": "markdown",
   "metadata": {},
   "source": [
    "检测结果2\n",
    "![image.png](attachment:image.png)"
   ]
  },
  {
   "cell_type": "markdown",
   "metadata": {},
   "source": [
    "## fine-tune ocr模型\n",
    "- 模型选择：densenet+CTC\n",
    "- 人工标注了2700张左右的数据\n",
    "- 训练30个epoch"
   ]
  },
  {
   "cell_type": "markdown",
   "metadata": {},
   "source": [
    "# 给图片打分"
   ]
  },
  {
   "cell_type": "markdown",
   "metadata": {},
   "source": [
    "## 选择模型\n",
    "NIMA：一个较为简单的分类模型： CNN+EMD loss"
   ]
  },
  {
   "cell_type": "markdown",
   "metadata": {},
   "source": [
    "## 实验不同的骨干网络\n",
    "- vgg 19/16\n",
    "- resnet\n",
    "- densent101\n",
    "    - 参数量 ～7M\n",
    "- pnasnet -5-large\n",
    "    - 该网络参数量比较大，达到80M，\n",
    "    - 不同网络在imagenet上的精度对比如下"
   ]
  },
  {
   "cell_type": "markdown",
   "metadata": {},
   "source": [
    "![image.png](attachment:image.png)"
   ]
  },
  {
   "cell_type": "markdown",
   "metadata": {},
   "source": [
    "![image.png](attachment:image.png)"
   ]
  },
  {
   "cell_type": "markdown",
   "metadata": {},
   "source": [
    "## 实验结果\n",
    "- 以正负误差小于5分作为正确预测\n",
    "- vgg19 ：78%\n",
    "- resnet：62%\n",
    "- densenet：实验结果\n",
    "- pnasnet-5-large：56%\n",
    "![image.png](attachment:image.png)"
   ]
  },
  {
   "cell_type": "markdown",
   "metadata": {},
   "source": [
    "实验结果1\n",
    "![image.png](attachment:image.png)"
   ]
  },
  {
   "cell_type": "markdown",
   "metadata": {},
   "source": [
    "实验结果2\n",
    "![image.png](attachment:image.png)"
   ]
  },
  {
   "cell_type": "markdown",
   "metadata": {},
   "source": [
    "## 实验中出现的问题\n",
    "- 问题描述：参考的实现代码将结果分为10类，我们将至调整为更多类时，模型训练不收敛，结果出现异常。\n",
    "- 解决方案：追溯论文中的损失函数的实现细节，找到一处细微的错误，纠正后，模型可以在分为任意多类的情况下正常训练。\n",
    "- 收获：类间有联系的分类问题可以使用emd损失来替代交叉熵损失。\n"
   ]
  },
  {
   "cell_type": "markdown",
   "metadata": {},
   "source": [
    "# references\n",
    "- 打分模型： NIMA: Neural Image Assessment\n",
    "- The Earth Mover’s Distance is the Mallows Distance: Some Insights from Statistics\n",
    "- Squared Earth Mover’s Distance-based Loss for Training Deep Neural Networks"
   ]
  },
  {
   "cell_type": "code",
   "execution_count": null,
   "metadata": {},
   "outputs": [],
   "source": []
  }
 ],
 "metadata": {
  "kernelspec": {
   "display_name": "Python [conda env:pytorchpy35]",
   "language": "python",
   "name": "conda-env-pytorchpy35-py"
  },
  "language_info": {
   "codemirror_mode": {
    "name": "ipython",
    "version": 3
   },
   "file_extension": ".py",
   "mimetype": "text/x-python",
   "name": "python",
   "nbconvert_exporter": "python",
   "pygments_lexer": "ipython3",
   "version": "3.5.6"
  },
  "toc": {
   "base_numbering": 1.0,
   "nav_menu": {},
   "number_sections": true,
   "sideBar": true,
   "skip_h1_title": false,
   "title_cell": "Table of Contents",
   "title_sidebar": "Contents",
   "toc_cell": false,
   "toc_position": {},
   "toc_section_display": true,
   "toc_window_display": false
  }
 },
 "nbformat": 4,
 "nbformat_minor": 2
}
